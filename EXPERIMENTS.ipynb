{
 "cells": [
  {
   "cell_type": "markdown",
   "metadata": {},
   "source": [
    "## Import all functions frop .py files"
   ]
  },
  {
   "cell_type": "code",
   "execution_count": 1,
   "metadata": {
    "execution": {
     "iopub.execute_input": "2021-07-19T09:50:16.794975Z",
     "iopub.status.busy": "2021-07-19T09:50:16.794975Z",
     "iopub.status.idle": "2021-07-19T09:50:19.944078Z",
     "shell.execute_reply": "2021-07-19T09:50:19.943111Z",
     "shell.execute_reply.started": "2021-07-19T09:50:16.794975Z"
    }
   },
   "outputs": [
    {
     "name": "stderr",
     "output_type": "stream",
     "text": [
      "C:\\Users\\Max\\anaconda3\\lib\\site-packages\\numpy\\_distributor_init.py:32: UserWarning: loaded more than 1 DLL from .libs:\n",
      "C:\\Users\\Max\\anaconda3\\lib\\site-packages\\numpy\\.libs\\libopenblas.GK7GX5KEQ4F6UYO3P26ULGBQYHGQO7J4.gfortran-win_amd64.dll\n",
      "C:\\Users\\Max\\anaconda3\\lib\\site-packages\\numpy\\.libs\\libopenblas.PYQHXLVVQ7VESDPUVUADXEVJOBGHJPAY.gfortran-win_amd64.dll\n",
      "  stacklevel=1)\n"
     ]
    }
   ],
   "source": [
    "# import packages\n",
    "import numpy as np\n",
    "\n",
    "# Import functions from files\n",
    "from general_functions import *\n",
    "from loss_and_gradients import *\n",
    "from SARAH_fun import *\n",
    "from Spiderboost_fun import *\n",
    "from katyusha_fun import *\n",
    "\n",
    "np.random.seed(123)"
   ]
  },
  {
   "cell_type": "markdown",
   "metadata": {},
   "source": [
    "# Choose a dataset"
   ]
  },
  {
   "cell_type": "markdown",
   "metadata": {},
   "source": [
    "### a9a Dataset"
   ]
  },
  {
   "cell_type": "code",
   "execution_count": 2,
   "metadata": {},
   "outputs": [],
   "source": [
    "# Import data a9a\n",
    "train_path = \"data/a9a_dataset/a9a_train.txt\"\n",
    "test_path = \"data/a9a_dataset/a9a_test.txt\"\n",
    "X_train, y_train, X_test, y_test = load_data(train_path, test_path)\n",
    "\n",
    "experiment_1_stepsize = 0.05\n",
    "experiment_2_stepsize = 0.05\n",
    "experiment_3_stepsize = 0.05\n",
    "experiment_2_stepsize_proximal = 0.01\n",
    "title_first_experiment = \"a9a dataset - non convex reg\"\n",
    "title_second_experiment = \"a9a dataset - l1 reg\"\n",
    "title_third_experiment = \"a9a dataset - rr no reg\""
   ]
  },
  {
   "cell_type": "markdown",
   "metadata": {},
   "source": [
    "### w8a Dataset"
   ]
  },
  {
   "cell_type": "code",
   "execution_count": 2,
   "metadata": {},
   "outputs": [],
   "source": [
    "# Import data w8a\n",
    "train_path = \"data/w8a_dataset/w8a_train.txt\"\n",
    "test_path = \"data/w8a_dataset/w8a_test.txt\"\n",
    "X_train, y_train, X_test, y_test = load_data(train_path, test_path)\n",
    "\n",
    "experiment_1_stepsize = 0.05\n",
    "experiment_2_stepsize = 0.01\n",
    "experiment_3_stepsize = 0.05\n",
    "experiment_2_stepsize_proximal = 0.001\n",
    "title_first_experiment = \"w8a dataset - non convex reg\"\n",
    "title_second_experiment = \"w8a dataset - l1 reg\"\n",
    "title_third_experiment = \"w8a dataset - rr no reg\""
   ]
  },
  {
   "cell_type": "markdown",
   "metadata": {},
   "source": [
    "### Surgical classification dataset"
   ]
  },
  {
   "cell_type": "code",
   "execution_count": 2,
   "metadata": {
    "execution": {
     "iopub.execute_input": "2021-07-19T09:50:24.015114Z",
     "iopub.status.busy": "2021-07-19T09:50:24.015114Z",
     "iopub.status.idle": "2021-07-19T09:50:24.275295Z",
     "shell.execute_reply": "2021-07-19T09:50:24.274364Z",
     "shell.execute_reply.started": "2021-07-19T09:50:24.015114Z"
    }
   },
   "outputs": [],
   "source": [
    "# Import data\n",
    "import pandas as pd\n",
    "data_path = \"data/surgical_classification.csv\"\n",
    "\n",
    "data = pd.read_csv(data_path)\n",
    "X_train = data.loc[:,data.columns!=\"complication\"]\n",
    "X_train = np.array((data - np.mean(data))/np.std(data))\n",
    "y_train = np.array(data.iloc[:,-1])\n",
    "y_train = y_train*2 -1\n",
    "\n",
    "experiment_1_stepsize = 0.01\n",
    "experiment_2_stepsize = 0.01\n",
    "experiment_3_stepsize = 0.01\n",
    "experiment_2_stepsize_proximal = 0.01\n",
    "title_first_experiment = \"surgical dataset - non convex reg\"\n",
    "title_second_experiment = \"surgical dataset - l1 reg\"\n",
    "title_third_experiment = \"surgical dataset - rr no reg\""
   ]
  },
  {
   "cell_type": "markdown",
   "metadata": {},
   "source": [
    "### Wine quality regression"
   ]
  },
  {
   "cell_type": "code",
   "execution_count": 42,
   "metadata": {},
   "outputs": [],
   "source": [
    "# Import data\n",
    "import pandas as pd\n",
    "data_path = \"data/winequality_regression.csv\"\n",
    "\n",
    "data = pd.read_csv(data_path)\n",
    "X_train = data.loc[:,data.columns!=\"quality\"]\n",
    "X_train = np.array((data - np.mean(data))/np.std(data))\n",
    "y_train = np.array(data.iloc[:,-1])\n",
    "\n",
    "experiment_1_stepsize = 0.01\n",
    "experiment_2_stepsize = 0.1\n",
    "experiment_3_stepsize = 0.1\n",
    "experiment_2_stepsize_proximal = 0.01\n",
    "experiment_3_stepsize_proximal = 0.01\n",
    "title_first_experiment = \"wine quality dataset - non convex reg\"\n",
    "title_second_experiment = \"wine quality dataset - l1 reg\"\n",
    "title_third_experiment = \"wine quality dataset - rr no reg\""
   ]
  },
  {
   "cell_type": "markdown",
   "metadata": {},
   "source": [
    "## EXPERIMENT 1 - Non convex regularizer case"
   ]
  },
  {
   "cell_type": "code",
   "execution_count": 3,
   "metadata": {
    "execution": {
     "iopub.execute_input": "2021-07-19T09:50:37.007471Z",
     "iopub.status.busy": "2021-07-19T09:50:37.007471Z",
     "iopub.status.idle": "2021-07-19T09:50:37.027416Z",
     "shell.execute_reply": "2021-07-19T09:50:37.026418Z",
     "shell.execute_reply.started": "2021-07-19T09:50:37.007471Z"
    }
   },
   "outputs": [],
   "source": [
    "# Define common parameters for comparing algorithms\n",
    "\n",
    "eta = experiment_1_stepsize # Stepsize\n",
    "b = 256 #int(np.ceil(np.sqrt(X_train.shape[0]))) # Mini batch size\n",
    "q = int(2*X_train.shape[0]/b) # Epoch length\n",
    "\n",
    "L = 1/(3*eta) # Estimated lipschitz constant from stepsize\n",
    "S = 80 # Number of epochs\n",
    "gamma = 0.1 # Regularization parameter\n",
    "\n",
    "w_start = np.random.randn(X_train.shape[1])"
   ]
  },
  {
   "cell_type": "code",
   "execution_count": 4,
   "metadata": {
    "execution": {
     "iopub.execute_input": "2021-07-19T09:50:37.380218Z",
     "iopub.status.busy": "2021-07-19T09:50:37.380218Z",
     "iopub.status.idle": "2021-07-19T09:50:38.558298Z",
     "shell.execute_reply": "2021-07-19T09:50:38.557300Z",
     "shell.execute_reply.started": "2021-07-19T09:50:37.380218Z"
    }
   },
   "outputs": [],
   "source": [
    "# SVRG training baseline\n",
    "\n",
    "# Initialize w0\n",
    "w0 = w_start.copy()\n",
    "\n",
    "# Method with non convex optimization\n",
    "gradient = lambda X,y,w: gradient_lr_np_nc(X,y,w,gamma)\n",
    "w_list_svrg = svrg(X_train, y_train, w0, S, q, eta, b, gradient)\n",
    "loss_list_svrg_nc = [loss_lr_np_nc(X_train,y_train,w,gamma=gamma) for w in w_list_svrg]"
   ]
  },
  {
   "cell_type": "code",
   "execution_count": 5,
   "metadata": {
    "execution": {
     "iopub.execute_input": "2021-07-19T09:50:38.560294Z",
     "iopub.status.busy": "2021-07-19T09:50:38.559296Z",
     "iopub.status.idle": "2021-07-19T09:50:39.715152Z",
     "shell.execute_reply": "2021-07-19T09:50:39.715152Z",
     "shell.execute_reply.started": "2021-07-19T09:50:38.560294Z"
    }
   },
   "outputs": [],
   "source": [
    "# SARAH training\n",
    "\n",
    "# Initialize w0\n",
    "w0 = w_start.copy()\n",
    "\n",
    "# SARAH method with non convex optimization\n",
    "gradient = lambda X,y,w: gradient_lr_np_nc(X,y,w,gamma)\n",
    "w_list_sarah_nc = sarah(X_train, y_train, w0, S, q, eta,b, gradient)\n",
    "loss_list_sarah_nc = [loss_lr_np_nc(X_train, y_train, w, gamma=gamma) for w in w_list_sarah_nc]"
   ]
  },
  {
   "cell_type": "code",
   "execution_count": 6,
   "metadata": {
    "execution": {
     "iopub.execute_input": "2021-07-19T09:50:39.718139Z",
     "iopub.status.busy": "2021-07-19T09:50:39.717140Z",
     "iopub.status.idle": "2021-07-19T09:50:41.656214Z",
     "shell.execute_reply": "2021-07-19T09:50:41.655296Z",
     "shell.execute_reply.started": "2021-07-19T09:50:39.718139Z"
    }
   },
   "outputs": [
    {
     "name": "stdout",
     "output_type": "stream",
     "text": [
      "Done!                     \n"
     ]
    }
   ],
   "source": [
    "# SpiderBoost training\n",
    "\n",
    "# Initialize w0\n",
    "w0 = w_start.copy()\n",
    "\n",
    "# Method with non convex optimization\n",
    "gradient = lambda X,y,w: gradient_lr_np_nc(X,y,w,gamma)\n",
    "w_list_spiderboost_nc = spiderboost(X_train, y_train, w0, eta, q, S*q, b, gradient, momentum = True, beta = 1)\n",
    "loss_list_spiderboost_nc_mom = [loss_lr_np_nc(X_train,y_train,w,gamma=gamma) for w in w_list_spiderboost_nc]"
   ]
  },
  {
   "cell_type": "code",
   "execution_count": 7,
   "metadata": {
    "execution": {
     "iopub.execute_input": "2021-07-19T09:50:41.659207Z",
     "iopub.status.busy": "2021-07-19T09:50:41.658209Z",
     "iopub.status.idle": "2021-07-19T09:50:43.587170Z",
     "shell.execute_reply": "2021-07-19T09:50:43.587170Z",
     "shell.execute_reply.started": "2021-07-19T09:50:41.659207Z"
    }
   },
   "outputs": [],
   "source": [
    "# Kartyusha training\n",
    "\n",
    "# Initialize w0\n",
    "w0 = w_start.copy()\n",
    "\n",
    "# Method with non convex optimization\n",
    "gradient = lambda X,y,w: gradient_lr_np_nc(X,y,w,gamma)\n",
    "w_list_katyusha_nc = katyusha_minibatch_noprox(X_train,y_train,gradient,w0,S,L,b,option = 2,t2 = 0.5)\n",
    "loss_list_katyusha_nc = [loss_lr_np_nc(X_train,y_train,w,gamma=gamma) for w in w_list_katyusha_nc]"
   ]
  },
  {
   "cell_type": "code",
   "execution_count": 8,
   "metadata": {
    "execution": {
     "iopub.execute_input": "2021-07-19T09:50:43.589166Z",
     "iopub.status.busy": "2021-07-19T09:50:43.588168Z",
     "iopub.status.idle": "2021-07-19T09:50:43.604126Z",
     "shell.execute_reply": "2021-07-19T09:50:43.603128Z",
     "shell.execute_reply.started": "2021-07-19T09:50:43.589166Z"
    }
   },
   "outputs": [],
   "source": [
    "# Make losses comparable\n",
    "\n",
    "lstar = min([min(loss_list_svrg_nc), min(loss_list_sarah_nc),\n",
    "min(loss_list_spiderboost_nc_mom),\n",
    "min(loss_list_katyusha_nc)])\n",
    "\n",
    "star_loss_list_svrg_nc = [l-lstar for l in loss_list_svrg_nc]\n",
    "star_loss_list_sarah_nc = [l-lstar for l in loss_list_sarah_nc]\n",
    "star_loss_list_spiderboost_nc_mom = [l-lstar for l in loss_list_spiderboost_nc_mom]\n",
    "star_loss_list_katyusha_nc = [l-lstar for l in loss_list_katyusha_nc]"
   ]
  },
  {
   "cell_type": "code",
   "execution_count": 9,
   "metadata": {
    "execution": {
     "iopub.execute_input": "2021-07-19T09:50:43.608115Z",
     "iopub.status.busy": "2021-07-19T09:50:43.606121Z",
     "iopub.status.idle": "2021-07-19T09:50:45.209006Z",
     "shell.execute_reply": "2021-07-19T09:50:45.208042Z",
     "shell.execute_reply.started": "2021-07-19T09:50:43.608115Z"
    },
    "tags": []
   },
   "outputs": [
    {
     "data": {
      "image/png": "[encoded data removed]",
      "text/plain": [
       "<Figure size 720x360 with 1 Axes>"
      ]
     },
     "metadata": {
      "needs_background": "light"
     },
     "output_type": "display_data"
    }
   ],
   "source": [
    "plot_loss_log_scale([star_loss_list_svrg_nc,star_loss_list_sarah_nc, star_loss_list_spiderboost_nc_mom, star_loss_list_katyusha_nc], [\"SVRG\",\"SARAH\", \"Spiderboost Momentum\",\"Katyusha\"], title_first_experiment, x_lim = [0,80] , y_lim=[1e-3, 1e1])"
   ]
  },
  {
   "cell_type": "markdown",
   "metadata": {},
   "source": [
    "## EXPERIMENT 2 - l1 regularization"
   ]
  },
  {
   "cell_type": "code",
   "execution_count": 10,
   "metadata": {
    "execution": {
     "iopub.execute_input": "2021-07-19T09:50:55.528085Z",
     "iopub.status.busy": "2021-07-19T09:50:55.527052Z",
     "iopub.status.idle": "2021-07-19T09:50:55.539019Z",
     "shell.execute_reply": "2021-07-19T09:50:55.538024Z",
     "shell.execute_reply.started": "2021-07-19T09:50:55.528085Z"
    }
   },
   "outputs": [],
   "source": [
    "# Define common parameters for comparing algorithms\n",
    "#experiment_2_stepsize = 0.01\n",
    "eta = experiment_2_stepsize # Stepsize \n",
    "b = 256 # int(np.ceil(np.sqrt(X_train.shape[0]))) # Mini batch size\n",
    "q = int(2*X_train.shape[0]/b) # Epoch length\n",
    "\n",
    "L = 1/(3*eta) # Estimated lipschitz constant from stepsize\n",
    "S = 80 # Number of epochs\n",
    "gamma = 0.1 # Regularization parameter\n",
    "\n",
    "w_start = np.random.randn(X_train.shape[1])"
   ]
  },
  {
   "cell_type": "code",
   "execution_count": 11,
   "metadata": {
    "execution": {
     "iopub.execute_input": "2021-07-19T09:50:55.859815Z",
     "iopub.status.busy": "2021-07-19T09:50:55.859815Z",
     "iopub.status.idle": "2021-07-19T09:50:56.894066Z",
     "shell.execute_reply": "2021-07-19T09:50:56.893076Z",
     "shell.execute_reply.started": "2021-07-19T09:50:55.859815Z"
    }
   },
   "outputs": [],
   "source": [
    "# SVRG training baseline\n",
    "\n",
    "# Initialize w0\n",
    "w0 = w_start.copy()\n",
    "\n",
    "# Method\n",
    "\n",
    "gradient = lambda X,y,w: gradient_rr_l1(X,y,w,gamma)\n",
    "w_list_svrg = svrg(X_train, y_train, w0, S, q, eta, b, gradient)\n",
    "loss_list_svrg_l1 = [loss_rr_l1(X_train,y_train,w,gamma=gamma) for w in w_list_svrg]"
   ]
  },
  {
   "cell_type": "code",
   "execution_count": 12,
   "metadata": {
    "execution": {
     "iopub.execute_input": "2021-07-19T09:50:56.897059Z",
     "iopub.status.busy": "2021-07-19T09:50:56.895065Z",
     "iopub.status.idle": "2021-07-19T09:50:57.954057Z",
     "shell.execute_reply": "2021-07-19T09:50:57.954057Z",
     "shell.execute_reply.started": "2021-07-19T09:50:56.897059Z"
    }
   },
   "outputs": [],
   "source": [
    "# SARAH training\n",
    "\n",
    "# Initialize w0\n",
    "w0 = w_start.copy()\n",
    "\n",
    "# SARAH method with l1 optimization\n",
    "gradient = lambda X,y,w: gradient_rr_l1(X,y,w,gamma)\n",
    "w_list = sarah(X_train, y_train, w0, S, q, eta, b,gradient)\n",
    "loss_list_sarah_l1 = [loss_rr_l1(X_train, y_train, w, gamma=gamma) for w in w_list]"
   ]
  },
  {
   "cell_type": "code",
   "execution_count": 13,
   "metadata": {
    "execution": {
     "iopub.execute_input": "2021-07-19T09:50:57.956051Z",
     "iopub.status.busy": "2021-07-19T09:50:57.956051Z",
     "iopub.status.idle": "2021-07-19T09:50:59.749509Z",
     "shell.execute_reply": "2021-07-19T09:50:59.748543Z",
     "shell.execute_reply.started": "2021-07-19T09:50:57.956051Z"
    }
   },
   "outputs": [
    {
     "name": "stdout",
     "output_type": "stream",
     "text": [
      "Done!                     \n"
     ]
    }
   ],
   "source": [
    "# Spiderboost training\n",
    "\n",
    "# Initialize w0 \n",
    "w0 = w_start.copy()\n",
    "\n",
    "# Method with l1 optimization\n",
    "gradient = lambda X,y,w: gradient_rr_l1(X,y,w,gamma)\n",
    "w_list = spiderboost(X_train, y_train, w0, eta, q, S*q, b, gradient, momentum = True, beta = 1)\n",
    "loss_list_spiderboost_l1_mom = [loss_rr_l1(X_train,y_train,w,gamma=gamma) for w in w_list]"
   ]
  },
  {
   "cell_type": "code",
   "execution_count": 14,
   "metadata": {
    "execution": {
     "iopub.execute_input": "2021-07-19T09:50:59.751503Z",
     "iopub.status.busy": "2021-07-19T09:50:59.750506Z",
     "iopub.status.idle": "2021-07-19T09:51:02.185766Z",
     "shell.execute_reply": "2021-07-19T09:51:02.184915Z",
     "shell.execute_reply.started": "2021-07-19T09:50:59.751503Z"
    }
   },
   "outputs": [],
   "source": [
    "# Katyusha training\n",
    "\n",
    "eta = experiment_2_stepsize_proximal\n",
    "L = 1/(3*eta)\n",
    "\n",
    "w0 = w_start.copy()\n",
    "\n",
    "# Method with l1 optimization\n",
    "\n",
    "prox_minimizer = lambda zk,grad,alpha: proximal_minimizer_rr_l1(zk,grad,alpha,gamma)\n",
    "w_list = katyusha_minibatch(X_train,y_train,gradient_rr,prox_minimizer,w0,S,L,b,option = 1, t2 = 0.5)\n",
    "loss_list_katyusha_l1_prox = [loss_rr_l1(X_train,y_train,w,gamma=gamma) for w in w_list]"
   ]
  },
  {
   "cell_type": "code",
   "execution_count": 15,
   "metadata": {
    "execution": {
     "iopub.execute_input": "2021-07-19T09:51:02.187758Z",
     "iopub.status.busy": "2021-07-19T09:51:02.186761Z",
     "iopub.status.idle": "2021-07-19T09:51:02.200731Z",
     "shell.execute_reply": "2021-07-19T09:51:02.199726Z",
     "shell.execute_reply.started": "2021-07-19T09:51:02.187758Z"
    }
   },
   "outputs": [],
   "source": [
    "# Make losses comparable\n",
    "\n",
    "lstar = min([min(loss_list_svrg_l1), min(loss_list_sarah_l1), min(loss_list_spiderboost_l1_mom),\n",
    "min(loss_list_katyusha_l1_prox)])\n",
    "\n",
    "star_loss_list_svrg_l1 = [l-lstar for l in loss_list_svrg_l1]\n",
    "star_loss_list_sarah_l1 = [l-lstar for l in loss_list_sarah_l1]\n",
    "star_loss_list_spiderboost_l1_mom = [l-lstar for l in loss_list_spiderboost_l1_mom]\n",
    "star_loss_list_katyusha_l1_prox = [l-lstar for l in loss_list_katyusha_l1_prox]"
   ]
  },
  {
   "cell_type": "code",
   "execution_count": 16,
   "metadata": {
    "execution": {
     "iopub.execute_input": "2021-07-19T09:51:02.202719Z",
     "iopub.status.busy": "2021-07-19T09:51:02.201720Z",
     "iopub.status.idle": "2021-07-19T09:51:03.111386Z",
     "shell.execute_reply": "2021-07-19T09:51:03.110388Z",
     "shell.execute_reply.started": "2021-07-19T09:51:02.202719Z"
    },
    "tags": []
   },
   "outputs": [
    {
     "data": {
      "image/png": "[encoded data removed]",
      "text/plain": [
       "<Figure size 720x360 with 1 Axes>"
      ]
     },
     "metadata": {
      "needs_background": "light"
     },
     "output_type": "display_data"
    }
   ],
   "source": [
    "plot_loss_log_scale([star_loss_list_svrg_l1,star_loss_list_sarah_l1, star_loss_list_spiderboost_l1_mom, star_loss_list_katyusha_l1_prox], [\"SVRG\",\"SARAH\", \"Spiderboost Momentum\",\"Prox-Katyusha\"], title_second_experiment, x_lim = [0,80] , y_lim=[1e-2, 1e1])"
   ]
  },
  {
   "cell_type": "markdown",
   "metadata": {},
   "source": [
    "## EXPERIMENT 3 - Robust regression no regularization"
   ]
  },
  {
   "cell_type": "code",
   "execution_count": 17,
   "metadata": {
    "execution": {
     "iopub.execute_input": "2021-07-19T09:51:18.502966Z",
     "iopub.status.busy": "2021-07-19T09:51:18.502966Z",
     "iopub.status.idle": "2021-07-19T09:51:18.510943Z",
     "shell.execute_reply": "2021-07-19T09:51:18.509946Z",
     "shell.execute_reply.started": "2021-07-19T09:51:18.502966Z"
    }
   },
   "outputs": [],
   "source": [
    "# Define common parameters for comparing algorithms\n",
    "eta = experiment_3_stepsize # Stepsize \n",
    "b = 256 # int(np.ceil(np.sqrt(X_train.shape[0]))) # Mini batch size\n",
    "q = int(2*X_train.shape[0]/b) # Epoch length\n",
    "\n",
    "L = 1/(3*eta) # Estimated lipschitz constant from stepsize\n",
    "S = 80 # Number of epochs\n",
    "\n",
    "w_start = np.random.randn(X_train.shape[1])"
   ]
  },
  {
   "cell_type": "code",
   "execution_count": 18,
   "metadata": {
    "execution": {
     "iopub.execute_input": "2021-07-19T09:51:18.765183Z",
     "iopub.status.busy": "2021-07-19T09:51:18.764185Z",
     "iopub.status.idle": "2021-07-19T09:51:19.731381Z",
     "shell.execute_reply": "2021-07-19T09:51:19.731381Z",
     "shell.execute_reply.started": "2021-07-19T09:51:18.765183Z"
    }
   },
   "outputs": [],
   "source": [
    "# SVRG training baseline\n",
    "\n",
    "# Initialize w0\n",
    "w0 = w_start.copy()\n",
    "\n",
    "# Method\n",
    "\n",
    "gradient = lambda X,y,w: gradient_rr(X,y,w)\n",
    "w_list_svrg = svrg(X_train, y_train, w0, S, q, eta, b, gradient)\n",
    "loss_list_svrg_l1 = [loss_rr(X_train,y_train,w) for w in w_list_svrg]"
   ]
  },
  {
   "cell_type": "code",
   "execution_count": 19,
   "metadata": {
    "execution": {
     "iopub.execute_input": "2021-07-19T09:51:19.735373Z",
     "iopub.status.busy": "2021-07-19T09:51:19.733377Z",
     "iopub.status.idle": "2021-07-19T09:51:20.749676Z",
     "shell.execute_reply": "2021-07-19T09:51:20.748681Z",
     "shell.execute_reply.started": "2021-07-19T09:51:19.734374Z"
    }
   },
   "outputs": [],
   "source": [
    "# SARAH training\n",
    "\n",
    "# Initialize w0\n",
    "w0 = w_start.copy()\n",
    "\n",
    "# SARAH method with l1 optimization\n",
    "gradient = lambda X,y,w: gradient_rr(X,y,w)\n",
    "w_list = sarah(X_train, y_train, w0, S, q, eta, b,gradient)\n",
    "loss_list_sarah_l1 = [loss_rr(X_train,y_train,w) for w in w_list]"
   ]
  },
  {
   "cell_type": "code",
   "execution_count": 20,
   "metadata": {
    "execution": {
     "iopub.execute_input": "2021-07-19T09:51:20.751670Z",
     "iopub.status.busy": "2021-07-19T09:51:20.751670Z",
     "iopub.status.idle": "2021-07-19T09:51:22.452513Z",
     "shell.execute_reply": "2021-07-19T09:51:22.451581Z",
     "shell.execute_reply.started": "2021-07-19T09:51:20.751670Z"
    }
   },
   "outputs": [
    {
     "name": "stdout",
     "output_type": "stream",
     "text": [
      "Done!                     \n"
     ]
    }
   ],
   "source": [
    "# Spiderboost training\n",
    "\n",
    "# Initialize w0 \n",
    "w0 = w_start.copy()\n",
    "\n",
    "# Method with l1 optimization\n",
    "gradient = lambda X,y,w: gradient_rr(X,y,w)\n",
    "w_list = spiderboost(X_train, y_train, w0, eta, q, S*q, b, gradient, momentum = True, beta = 1)\n",
    "loss_list_spiderboost_l1_mom = [loss_rr(X_train,y_train,w) for w in w_list]"
   ]
  },
  {
   "cell_type": "code",
   "execution_count": 21,
   "metadata": {
    "execution": {
     "iopub.execute_input": "2021-07-19T09:51:22.453511Z",
     "iopub.status.busy": "2021-07-19T09:51:22.453511Z",
     "iopub.status.idle": "2021-07-19T09:51:23.899905Z",
     "shell.execute_reply": "2021-07-19T09:51:23.899000Z",
     "shell.execute_reply.started": "2021-07-19T09:51:22.453511Z"
    }
   },
   "outputs": [],
   "source": [
    "# Katyusha training\n",
    "\n",
    "eta = experiment_3_stepsize\n",
    "L = 1/(3*eta)\n",
    "\n",
    "w0 = w_start.copy()\n",
    "\n",
    "# Method\n",
    "\n",
    "gradient = lambda X,y,w: gradient_rr(X,y,w)\n",
    "w_list = katyusha_minibatch_noprox(X_train,y_train,gradient,w0,S,L,b,option = 1, t2 = 0.5)\n",
    "loss_list_katyusha_l1_prox = [loss_rr(X_train,y_train,w) for w in w_list]"
   ]
  },
  {
   "cell_type": "code",
   "execution_count": 22,
   "metadata": {
    "execution": {
     "iopub.execute_input": "2021-07-19T09:51:23.901898Z",
     "iopub.status.busy": "2021-07-19T09:51:23.900901Z",
     "iopub.status.idle": "2021-07-19T09:51:23.914862Z",
     "shell.execute_reply": "2021-07-19T09:51:23.914862Z",
     "shell.execute_reply.started": "2021-07-19T09:51:23.900901Z"
    }
   },
   "outputs": [],
   "source": [
    "# Make losses comparable\n",
    "\n",
    "lstar = min([min(loss_list_svrg_l1), min(loss_list_sarah_l1), min(loss_list_spiderboost_l1_mom),\n",
    "min(loss_list_katyusha_l1_prox)])\n",
    "\n",
    "star_loss_list_svrg_l1 = [l-lstar for l in loss_list_svrg_l1]\n",
    "star_loss_list_sarah_l1 = [l-lstar for l in loss_list_sarah_l1]\n",
    "star_loss_list_spiderboost_l1_mom = [l-lstar for l in loss_list_spiderboost_l1_mom]\n",
    "star_loss_list_katyusha_l1_prox = [l-lstar for l in loss_list_katyusha_l1_prox]"
   ]
  },
  {
   "cell_type": "code",
   "execution_count": 23,
   "metadata": {
    "execution": {
     "iopub.execute_input": "2021-07-19T09:51:23.917855Z",
     "iopub.status.busy": "2021-07-19T09:51:23.916858Z",
     "iopub.status.idle": "2021-07-19T09:51:24.719505Z",
     "shell.execute_reply": "2021-07-19T09:51:24.715516Z",
     "shell.execute_reply.started": "2021-07-19T09:51:23.917855Z"
    }
   },
   "outputs": [
    {
     "data": {
      "image/png": "[encoded data removed]",
      "text/plain": [
       "<Figure size 720x360 with 1 Axes>"
      ]
     },
     "metadata": {
      "needs_background": "light"
     },
     "output_type": "display_data"
    }
   ],
   "source": [
    "plot_loss_log_scale([star_loss_list_svrg_l1,star_loss_list_sarah_l1, star_loss_list_spiderboost_l1_mom, star_loss_list_katyusha_l1_prox], [\"SVRG\",\"SARAH\", \"Spiderboost Momentum\",\"Katyusha\"], title_third_experiment, x_lim = [0,80] , y_lim=[1e-1, 1e1])"
   ]
  },
  {
   "cell_type": "code",
   "execution_count": null,
   "metadata": {},
   "outputs": [],
   "source": []
  }
 ],
 "metadata": {
  "interpreter": {
   "hash": "751a0d52dfbb81de505c176160bfa3b9c484477a07d92f83c0dc762d492d9bb0"
  },
  "kernelspec": {
   "display_name": "Python 3",
   "language": "python",
   "name": "python3"
  },
  "language_info": {
   "codemirror_mode": {
    "name": "ipython",
    "version": 3
   },
   "file_extension": ".py",
   "mimetype": "text/x-python",
   "name": "python",
   "nbconvert_exporter": "python",
   "pygments_lexer": "ipython3",
   "version": "3.7.9"
  }
 },
 "nbformat": 4,
 "nbformat_minor": 4
}
